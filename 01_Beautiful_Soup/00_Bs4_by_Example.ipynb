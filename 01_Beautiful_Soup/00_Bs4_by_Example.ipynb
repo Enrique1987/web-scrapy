{
 "cells": [
  {
   "cell_type": "markdown",
   "id": "c9ae9e5c",
   "metadata": {},
   "source": [
    "## Examples of bs4 "
   ]
  },
  {
   "cell_type": "code",
   "execution_count": 11,
   "id": "735d802d",
   "metadata": {},
   "outputs": [],
   "source": [
    "from bs4 import BeautifulSoup"
   ]
  },
  {
   "cell_type": "markdown",
   "id": "7fca2180",
   "metadata": {},
   "source": [
    "### Example 1: find + getTex()"
   ]
  },
  {
   "cell_type": "code",
   "execution_count": 12,
   "id": "53d6e923",
   "metadata": {},
   "outputs": [],
   "source": [
    "myhtml = \"\"\"<option value=\"tfa_4472\" id=\"tfa_4472\" class=\"\">helo 1</option>\n",
    "<option value=\"tfa_4473\" id=\"tfa_4473\" class=\"\">helo 2</option>\n",
    "<option value=\"tfa_4474\" id=\"tfa_4474\" class=\"\">helo 3</option>\n",
    "<option value=\"tfa_4475\" id=\"tfa_4475\" class=\"\">helo 4</option>\n",
    "<option value=\"tfa_4476\" id=\"tfa_4476\" class=\"\">helo 5</option>\"\"\""
   ]
  },
  {
   "cell_type": "code",
   "execution_count": 13,
   "id": "de750965",
   "metadata": {},
   "outputs": [],
   "source": [
    "soup = BeautifulSoup(myhtml, 'html.parser')"
   ]
  },
  {
   "cell_type": "code",
   "execution_count": 14,
   "id": "b327fde4",
   "metadata": {},
   "outputs": [
    {
     "data": {
      "text/plain": [
       "<option class=\"\" id=\"tfa_4472\" value=\"tfa_4472\">helo 1</option>\n",
       "<option class=\"\" id=\"tfa_4473\" value=\"tfa_4473\">helo 2</option>\n",
       "<option class=\"\" id=\"tfa_4474\" value=\"tfa_4474\">helo 3</option>\n",
       "<option class=\"\" id=\"tfa_4475\" value=\"tfa_4475\">helo 4</option>\n",
       "<option class=\"\" id=\"tfa_4476\" value=\"tfa_4476\">helo 5</option>"
      ]
     },
     "execution_count": 14,
     "metadata": {},
     "output_type": "execute_result"
    }
   ],
   "source": [
    "soup"
   ]
  },
  {
   "cell_type": "code",
   "execution_count": 15,
   "id": "88ee7f2e",
   "metadata": {},
   "outputs": [],
   "source": [
    "my_text = []\n",
    "for text_tag in  soup.find_all(\"option\", {'class': ''}):\n",
    "    my_text.append(text_tag.getText()) \n"
   ]
  },
  {
   "cell_type": "code",
   "execution_count": 16,
   "id": "8c9b814e",
   "metadata": {},
   "outputs": [
    {
     "data": {
      "text/plain": [
       "['helo 1', 'helo 2', 'helo 3', 'helo 4', 'helo 5']"
      ]
     },
     "execution_count": 16,
     "metadata": {},
     "output_type": "execute_result"
    }
   ],
   "source": [
    "my_text"
   ]
  },
  {
   "cell_type": "markdown",
   "id": "ef02f921",
   "metadata": {},
   "source": [
    "### Example 2: find + attrs "
   ]
  },
  {
   "cell_type": "code",
   "execution_count": 17,
   "id": "ff620dc2",
   "metadata": {},
   "outputs": [
    {
     "name": "stdout",
     "output_type": "stream",
     "text": [
      "{'name': 'Michael Jordan', 'team': 'Real Madrid', 'Sport': 'Ping Pong'}\n"
     ]
    }
   ],
   "source": [
    "content = '''\n",
    "<div class=\"value\">\n",
    "<p class=\"name\">Michael Jordan</p>\n",
    "</div>\n",
    "\n",
    "<div class=\"value\">\n",
    "<p class=\"team\">Real Madrid</p>\n",
    "</div>\n",
    "\n",
    "<div class=\"value\">\n",
    "<p class=\"Sport\">Ping Pong</p>\n",
    "</div>\n",
    "'''\n",
    "\n",
    "from bs4 import BeautifulSoup\n",
    "\n",
    "soup2 = BeautifulSoup(content)\n",
    "\n",
    "person = {}\n",
    "\n",
    "for div in soup2.findAll('div', {'class': 'value'}):\n",
    "    person[div.find('p').attrs['class'][0]] = div.text.strip()\n",
    "\n",
    "print(person)"
   ]
  },
  {
   "cell_type": "code",
   "execution_count": null,
   "id": "1c51581c",
   "metadata": {},
   "outputs": [],
   "source": []
  }
 ],
 "metadata": {
  "kernelspec": {
   "display_name": "Python 3",
   "language": "python",
   "name": "python3"
  },
  "language_info": {
   "codemirror_mode": {
    "name": "ipython",
    "version": 3
   },
   "file_extension": ".py",
   "mimetype": "text/x-python",
   "name": "python",
   "nbconvert_exporter": "python",
   "pygments_lexer": "ipython3",
   "version": "3.8.8"
  }
 },
 "nbformat": 4,
 "nbformat_minor": 5
}
